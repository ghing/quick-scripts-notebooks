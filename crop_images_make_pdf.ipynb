{
 "cells": [
  {
   "cell_type": "markdown",
   "id": "toxic-alert",
   "metadata": {},
   "source": [
    "# Crop images and combine them into a PDF\n",
    "\n",
    "I \"scanned\" a paper notebook by taking a series of photos with a digital camera and a tripod. This notebook uses ImageMagick's `convert` command-line tool to crop the images to only the bounds of the notebook pages.\n",
    "\n",
    "I just kept adjacent pages as a single image/PDF page rather than bothering to split them in half so the PDF has one page per page of the notebook. That might be a future enhancement."
   ]
  },
  {
   "cell_type": "code",
   "execution_count": 1,
   "id": "progressive-evidence",
   "metadata": {},
   "outputs": [],
   "source": [
    "# Create a directory to store the cropped images\n",
    "\n",
    "!mkdir -p data/processed/notebook_scans/cropped"
   ]
  },
  {
   "cell_type": "markdown",
   "id": "nasty-rebound",
   "metadata": {},
   "source": [
    "I used GIMP to determine the coordinates of the upper-left-hand corner of the notebook page in the image as well as the size of a rectangle that would contain the page.\n",
    "\n",
    "I had to look at a few different images because I wasn't being super precise when I took the photos.\n",
    "\n",
    "The upper-left-hand corner of the start of the notebook page is 1100 pixels to the right and 910 pixels down from the upper-left-hand corner of the image. The bounding box that captures the page is 1260 x 980 pixels."
   ]
  },
  {
   "cell_type": "markdown",
   "id": "living-parks",
   "metadata": {},
   "source": [
    "I then used the `find` command with its `-exec` option to run `convert` on each image to crop it."
   ]
  },
  {
   "cell_type": "code",
   "execution_count": 2,
   "id": "important-russell",
   "metadata": {},
   "outputs": [],
   "source": [
    "# Use `find` with its `-exec` option to run `convert` on each image.\n",
    "# I had the `-exec` command run `bash -c` so I could calculate\n",
    "# the output filenames in order to save the cropped images in\n",
    "# a separate directory.\n",
    "!find data/source/notebook_scans -name '*.JPG' -exec bash -c 'f={}; f_base=$(basename $f); convert -crop 1260x980+1100+910 $f data/processed/notebook_scans/cropped/$f_base' \\;"
   ]
  },
  {
   "cell_type": "markdown",
   "id": "downtown-atlanta",
   "metadata": {},
   "source": [
    "I then used `convert` to combine all the cropped images into a single PDF."
   ]
  },
  {
   "cell_type": "code",
   "execution_count": 3,
   "id": "beginning-remove",
   "metadata": {},
   "outputs": [],
   "source": [
    "# Use `convert` to combine all the cropped images into a single PDF.\n",
    "!convert data/processed/notebook_scans/cropped/*.JPG data/processed/notebook_scans/'Notebook - 2021-03-06 - 2022-01-06.pdf'"
   ]
  },
  {
   "cell_type": "markdown",
   "id": "wicked-cargo",
   "metadata": {},
   "source": [
    "## References\n",
    "\n",
    "- [Using the find -exec Command Option](https://www.baeldung.com/linux/find-exec-command) (Baeldung on Linux)\n",
    "- [command line - Using xargs and variables](https://askubuntu.com/questions/1309838/using-xargs-and-variables) (Ask Ubuntu)\n",
    "- [Convert images to PDF on Linux](https://averagelinuxuser.com/convert-images-to-pdf-on-linux/) (Average Linux User)"
   ]
  },
  {
   "cell_type": "code",
   "execution_count": null,
   "id": "federal-clock",
   "metadata": {},
   "outputs": [],
   "source": []
  }
 ],
 "metadata": {
  "kernelspec": {
   "display_name": "Python 3",
   "language": "python",
   "name": "python3"
  },
  "language_info": {
   "codemirror_mode": {
    "name": "ipython",
    "version": 3
   },
   "file_extension": ".py",
   "mimetype": "text/x-python",
   "name": "python",
   "nbconvert_exporter": "python",
   "pygments_lexer": "ipython3",
   "version": "3.9.1"
  }
 },
 "nbformat": 4,
 "nbformat_minor": 5
}
